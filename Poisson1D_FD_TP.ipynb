{
 "cells": [
  {
   "cell_type": "markdown",
   "id": "b12d326c",
   "metadata": {},
   "source": [
    "\n",
    "# 1D Poisson Problem with Finite Differences (TP)\n",
    "\n",
    "We solve the boundary value problem\n",
    "\\[-u''(x) = f(x), \\quad x\\in(0,1), \\qquad u(0)=u(1)=0.\\]\n",
    "\n",
    "Goals:\n",
    "- Implement the **second-order centered** finite-difference scheme.\n",
    "- Assemble the **tridiagonal** matrix and solve the linear system.\n",
    "- Test several right-hand sides \\(f\\), compare to **exact** solutions when known (cases 1 & 2), otherwise to a **fine-grid reference** (cases 3 & 4).\n",
    "- Study **convergence**: plot \\(\\|u-u_\\star\\|_\\infty\\) vs \\( \\Delta x \\) on log–log (order ≈ slope).\n"
   ]
  },
  {
   "cell_type": "code",
   "execution_count": null,
   "id": "0053fd49",
   "metadata": {},
   "outputs": [],
   "source": [
    "import numpy as np\n",
    "import matplotlib.pyplot as plt\n",
    "from scipy.sparse import diags\n",
    "from scipy.sparse.linalg import spsolve\n",
    "\n",
    "%matplotlib inline\n"
   ]
  },
  {
   "cell_type": "markdown",
   "id": "78f5f83f",
   "metadata": {},
   "source": [
    "\n",
    "## Right-hand sides and exact solutions\n"
   ]
  },
  {
   "cell_type": "code",
   "execution_count": null,
   "id": "cb92ceca",
   "metadata": {},
   "outputs": [],
   "source": [
    "def f_rhs(x, ind):\n",
    "    x = np.asarray(x)\n",
    "    if ind == 1:\n",
    "        return np.ones_like(x)\n",
    "    elif ind == 2:\n",
    "        return np.sin(np.pi*x)\n",
    "    elif ind == 3:\n",
    "        return ((1/4 <= x) & (x < 3/4)).astype(float)\n",
    "    elif ind == 4:\n",
    "        return np.exp(-(x-0.5)**2)\n",
    "    else:\n",
    "        raise ValueError(\"ind must be 1..4\")\n",
    "\n",
    "def exact_u(x, ind):\n",
    "    x = np.asarray(x)\n",
    "    if ind == 1:\n",
    "        return x*(1-x)/2.0\n",
    "    elif ind == 2:\n",
    "        return np.sin(np.pi*x)/(np.pi**2)\n",
    "    else:\n",
    "        return np.zeros_like(x)  # not used\n"
   ]
  },
  {
   "cell_type": "markdown",
   "id": "0bc20ecd",
   "metadata": {},
   "source": [
    "\n",
    "## Finite-difference solver (second-order centered)\n"
   ]
  },
  {
   "cell_type": "code",
   "execution_count": null,
   "id": "2bdc6a86",
   "metadata": {},
   "outputs": [],
   "source": [
    "def solve_poisson_1d(J, f_handle, bc0=0.0, bc1=0.0, sparse=True):\n",
    "    \"\"\"Solve -u'' = f on (0,1) with u(0)=bc0, u(1)=bc1 using J interior points.\n",
    "    Returns (x_full, u_full) including endpoints.\n",
    "    \"\"\"\n",
    "    x = np.linspace(0.0, 1.0, J+2)     # includes endpoints\n",
    "    dx = x[1]-x[0]\n",
    "    xi = x[1:-1]                       # interior points\n",
    "\n",
    "    main = 2.0*np.ones(J)\n",
    "    off  = -1.0*np.ones(J-1)\n",
    "    if sparse:\n",
    "        A = diags([off, main, off], [-1,0,1], shape=(J,J), dtype=float) / (dx*dx)\n",
    "        b = f_handle(xi).astype(float)\n",
    "        b[0]  += bc0 / (dx*dx)\n",
    "        b[-1] += bc1 / (dx*dx)\n",
    "        u_int = spsolve(A, b)\n",
    "    else:\n",
    "        A = np.diag(main)\n",
    "        A += np.diag(off, -1) + np.diag(off, 1)\n",
    "        A /= (dx*dx)\n",
    "        b = f_handle(xi).astype(float)\n",
    "        b[0]  += bc0 / (dx*dx)\n",
    "        b[-1] += bc1 / (dx*dx)\n",
    "        u_int = np.linalg.solve(A, b)\n",
    "\n",
    "    u = np.empty(J+2)\n",
    "    u[0], u[-1] = bc0, bc1\n",
    "    u[1:-1] = u_int\n",
    "    return x, u\n"
   ]
  },
  {
   "cell_type": "markdown",
   "id": "810af33b",
   "metadata": {},
   "source": [
    "\n",
    "## Visual check (all 4 cases)\n"
   ]
  },
  {
   "cell_type": "code",
   "execution_count": null,
   "id": "d604d1b1",
   "metadata": {},
   "outputs": [],
   "source": [
    "def reference_solution(ind, J_ref=8192):\n",
    "    xr, ur = solve_poisson_1d(J_ref, lambda x: f_rhs(x, ind))\n",
    "    return xr, ur\n",
    "\n",
    "J = 100\n",
    "for ind in [1,2,3,4]:\n",
    "    x, u = solve_poisson_1d(J, lambda x: f_rhs(x, ind))\n",
    "    plt.figure()\n",
    "    plt.plot(x, u, '+', label=\"numerical (FD)\")\n",
    "    if ind in [1,2]:\n",
    "        xf = np.linspace(0,1,400)\n",
    "        plt.plot(xf, exact_u(xf, ind), label=\"exact\")\n",
    "    else:\n",
    "        xr, ur = reference_solution(ind)\n",
    "        plt.plot(xr, ur, label=\"reference (fine FD)\")\n",
    "    plt.xlabel(\"x\"); plt.ylabel(\"u(x)\")\n",
    "    plt.title(f\"Poisson 1D FD — case ind={ind}, J={J}\")\n",
    "    plt.legend(); plt.show()\n"
   ]
  },
  {
   "cell_type": "markdown",
   "id": "716fd668",
   "metadata": {},
   "source": [
    "\n",
    "## Convergence study\n",
    "We compute \\(\\|u-u_*\\|_\\infty\\) versus \\(\\Delta x\\). Order-2 should be observed.\n"
   ]
  },
  {
   "cell_type": "code",
   "execution_count": null,
   "id": "76eaaa70",
   "metadata": {},
   "outputs": [],
   "source": [
    "import pandas as pd\n",
    "\n",
    "def max_error(ind, Js):\n",
    "    rows = []\n",
    "    for J in Js:\n",
    "        x, u = solve_poisson_1d(J, lambda x: f_rhs(x, ind))\n",
    "        dx = x[1]-x[0]\n",
    "        if ind in [1,2]:\n",
    "            uex = exact_u(x, ind)\n",
    "        else:\n",
    "            xr, ur = reference_solution(ind, J_ref=16384)\n",
    "            uex = np.interp(x, xr, ur)\n",
    "        err = np.max(np.abs(u-uex))\n",
    "        rows.append({\"J\": J, \"dx\": dx, \"err_inf\": err})\n",
    "    return pd.DataFrame(rows)\n",
    "\n",
    "def loglog_plot(df, title):\n",
    "    plt.figure()\n",
    "    plt.loglog(df[\"dx\"], df[\"err_inf\"], marker=\"o\", label=\"FD error\")\n",
    "    dx = df[\"dx\"].values\n",
    "    e2 = (df[\"err_inf\"].values[-1]/(dx[-1]**2))*(dx**2)\n",
    "    e1 = (df[\"err_inf\"].values[-1]/(dx[-1]))*(dx)\n",
    "    plt.loglog(dx, e1, \"--\", label=\"order 1\")\n",
    "    plt.loglog(dx, e2, \"--\", label=\"order 2\")\n",
    "    plt.gca().invert_xaxis()\n",
    "    plt.xlabel(\"Δx\"); plt.ylabel(\"||u - u*||_∞\")\n",
    "    plt.title(title); plt.legend(); plt.show()\n",
    "\n",
    "Js = [10, 20, 40, 80, 160, 320, 640]\n",
    "for ind in [1,2,3,4]:\n",
    "    dfc = max_error(ind, Js)\n",
    "    display(dfc.head(3))\n",
    "    loglog_plot(dfc, f\"Convergence (ind={ind})\")\n"
   ]
  }
 ],
 "metadata": {},
 "nbformat": 4,
 "nbformat_minor": 5
}
